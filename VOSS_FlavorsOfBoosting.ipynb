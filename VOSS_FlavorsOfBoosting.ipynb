{
 "cells": [
  {
   "cell_type": "markdown",
   "metadata": {
    "id": "XnYzNLmInD3i"
   },
   "source": [
    "### Flavors of Boosting\n",
    "\n",
    "In this notebook, we build a photometric redshift estimator using various boosting methods: AdaBoost and various flavors of Gradient Boosted Trees (GBM, HistGBM, and XGBoost). We also look at using RandomizedSearchCV in order to improve our exploration of parameter space.\n",
    "\n",
    "Our goal is to estimate photometric redshifts starting from observations of galaxy magnitudes in six different photometric bands (u, g, r, i, z, y). \n",
    "\n",
    "\n",
    "Copyright: Viviana Acquaviva (2023); see also other data credits below.\n",
    "\n",
    "License: [BSD-3-clause](https://opensource.org/license/bsd-3-clause/)\n",
    "\n",
    "Essentially, we try to reproduce/improve upon the results of [this paper](https://arxiv.org/abs/1903.08174), for which the data are public and available [here](http://d-scholarship.pitt.edu/36064/)."
   ]
  },
  {
   "cell_type": "code",
   "execution_count": null,
   "metadata": {
    "id": "E8JP6BVcnD3k"
   },
   "outputs": [],
   "source": [
    "import numpy as np\n",
    "import pandas as pd\n",
    "from scipy import stats\n",
    "import matplotlib\n",
    "import matplotlib.pyplot as plt\n",
    "\n",
    "pd.set_option('display.max_columns', 100)\n",
    "pd.set_option('display.max_rows', 100)\n",
    "pd.set_option('display.max_colwidth', 100)\n",
    "\n",
    "font = {'size'   : 16}\n",
    "matplotlib.rc('font', **font)\n",
    "matplotlib.rc('xtick', labelsize=14) \n",
    "matplotlib.rc('ytick', labelsize=14) \n",
    "#matplotlib.rcParams.update({'figure.autolayout': True})\n",
    "matplotlib.rcParams['figure.dpi'] = 300"
   ]
  },
  {
   "cell_type": "code",
   "execution_count": null,
   "metadata": {
    "id": "fRr6XO89nD3k"
   },
   "outputs": [],
   "source": [
    "from sklearn import metrics\n",
    "from sklearn.model_selection import cross_validate, KFold, cross_val_predict, GridSearchCV\n",
    "from sklearn.tree import DecisionTreeRegressor, DecisionTreeClassifier\n",
    "from sklearn.ensemble import AdaBoostClassifier, AdaBoostRegressor, GradientBoostingRegressor"
   ]
  },
  {
   "cell_type": "markdown",
   "metadata": {
    "id": "YaQTtIbOnD3m"
   },
   "source": [
    "### We can read the data set with the selections applied in the previous notebook."
   ]
  },
  {
   "cell_type": "code",
   "execution_count": null,
   "metadata": {
    "id": "6PVFlryPnD3n"
   },
   "outputs": [],
   "source": [
    "sel_features = pd.read_csv('sel_features.csv', sep = '\\t')"
   ]
  },
  {
   "cell_type": "code",
   "execution_count": null,
   "metadata": {
    "id": "19HX5ncdnD3n"
   },
   "outputs": [],
   "source": [
    "sel_target = pd.read_csv('sel_target.csv')"
   ]
  },
  {
   "cell_type": "code",
   "execution_count": null,
   "metadata": {
    "id": "BMUKkZUMnD3o",
    "outputId": "3238f273-6736-4e61-f81e-4fa28b9a9ae5"
   },
   "outputs": [],
   "source": [
    "sel_features.shape"
   ]
  },
  {
   "cell_type": "code",
   "execution_count": null,
   "metadata": {
    "id": "NTpPKluPnD3p",
    "outputId": "c8dde403-1e32-4074-a4aa-27d1d1bd482f"
   },
   "outputs": [],
   "source": [
    "sel_target.values.ravel() #changes shape to 1d row-like array"
   ]
  },
  {
   "cell_type": "markdown",
   "metadata": {
    "id": "pCihwUFanD3p"
   },
   "source": [
    "We begin with AdaBoost; if you want to read the book, you'll discover that stacking learners that are too weak (e.g., very short Decision Trees) doesn't help."
   ]
  },
  {
   "cell_type": "markdown",
   "metadata": {
    "id": "evMo-_xYnD3p"
   },
   "source": [
    "This allows us to run a more informed parameter optimization."
   ]
  },
  {
   "cell_type": "code",
   "execution_count": null,
   "metadata": {
    "id": "ygJqRo-VnD3p",
    "outputId": "860e38c0-4427-476b-d48f-154a89c0f334"
   },
   "outputs": [],
   "source": [
    "# %%time Wall time on my machine was 1 min 17 s\n",
    "\n",
    "# Note: the variables after the \"time\" magic command are not updated - \n",
    "# e.g. the \"model\" object will not be the one defined later in the cell.\n",
    "# This may depend on the Jupyter notebook version.\n",
    "\n",
    "parameters = {'base_estimator__max_depth':[6,10,None], 'loss':['linear','square'], 'n_estimators':[20,50,100], 'learning_rate': [0.3,0.5,1.0]}\n",
    "nmodels = np.product([len(el) for el in parameters.values()])\n",
    "model = GridSearchCV(AdaBoostRegressor(base_estimator=DecisionTreeRegressor()), parameters, \\\n",
    "                     cv = KFold(n_splits=5, shuffle=True, random_state = 5), \\\n",
    "                     verbose = 2, n_jobs = 4, return_train_score=True)\n",
    "model.fit(sel_features,sel_target.values.ravel())\n",
    "\n",
    "print('Best params, best score:', \"{:.4f}\".format(model.best_score_), \\\n",
    "      model.best_params_)"
   ]
  },
  {
   "cell_type": "markdown",
   "metadata": {
    "id": "cyvakR19nD3q"
   },
   "source": [
    "We can take a look at the winning model scores; in this case, we also pay attention to the standard deviation of test scores, because we want to know what differences are statistically significant when we compare different models."
   ]
  },
  {
   "cell_type": "code",
   "execution_count": null,
   "metadata": {
    "id": "TsI06MgInD3q",
    "outputId": "32aa34c0-ef9a-470b-9cfe-841b3257f028"
   },
   "outputs": [],
   "source": [
    "scores = pd.DataFrame(model.cv_results_)\n",
    "scoresCV = scores[['params','mean_test_score','std_test_score','mean_train_score']].sort_values(by = 'mean_test_score', \\\n",
    "                                                    ascending = False)\n",
    "scoresCV.head()"
   ]
  },
  {
   "cell_type": "markdown",
   "metadata": {
    "id": "Ms4eDbtXnD3q"
   },
   "source": [
    "We can see that the standard deviation is 0.03 - giving us a hint of what's significant - and that a few different models have similar scores. If you change the random seed in the cross validation, the scores will change by a similar amount, and the best model may change as well.\n",
    "\n",
    "Additionally, the resulting scores will not be exactly reproducible because there is another random component in the adaptive learning set (this means that if you run the cross_validate function using the best model from above, you might get a different average score!)"
   ]
  },
  {
   "cell_type": "markdown",
   "metadata": {
    "id": "yDy9kV4rnD3q"
   },
   "source": [
    "#### Let's pick the best model and check the derived metrics as well (OLF, NMAD). We should do nested cross validation to get the generalization errors right - but if we are just comparing models, this is ok."
   ]
  },
  {
   "cell_type": "code",
   "execution_count": null,
   "metadata": {
    "id": "P-9rvW1CnD3r"
   },
   "outputs": [],
   "source": [
    "bm = model.best_estimator_"
   ]
  },
  {
   "cell_type": "markdown",
   "metadata": {
    "id": "OpZBE-HWnD3r"
   },
   "source": [
    "Let's generate predicted values."
   ]
  },
  {
   "cell_type": "code",
   "execution_count": null,
   "metadata": {
    "id": "pfvwcY-3nD3s"
   },
   "outputs": [],
   "source": [
    "y_pred_bm = cross_val_predict(bm, sel_features, sel_target.values.ravel(), cv = KFold(n_splits=5, shuffle = True, random_state=10))"
   ]
  },
  {
   "cell_type": "markdown",
   "metadata": {
    "id": "k5_B338xnD3s"
   },
   "source": [
    "Calculate outlier fraction and NMAD:"
   ]
  },
  {
   "cell_type": "code",
   "execution_count": null,
   "metadata": {
    "id": "TuLQb2J6nD3s",
    "outputId": "f2b6fa9c-eb63-42e9-ce18-625791da3942"
   },
   "outputs": [],
   "source": [
    "print(np.round(len(np.where(np.abs(sel_target.values.ravel()-y_pred_bm)>0.15*(1+sel_target.values.ravel()))[0])/len(sel_target.values.ravel()),3))\n",
    "\n",
    "print(np.round(1.48*np.median(np.abs(sel_target.values.ravel()-y_pred_bm)/(1 + sel_target.values.ravel())),3))"
   ]
  },
  {
   "cell_type": "markdown",
   "metadata": {
    "id": "df3vHbnwnD3s"
   },
   "source": [
    "These are actually .... what we obtained for the Random Forests model! But is the difference statistically significant? One way to explore this is by generating several sets of predictions, and calculating their standard deviation."
   ]
  },
  {
   "cell_type": "code",
   "execution_count": null,
   "metadata": {
    "id": "09XjPnfPnD3s",
    "outputId": "437a5a99-775c-4b6c-d334-7f8326fc802d"
   },
   "outputs": [],
   "source": [
    "seeds = np.random.choice(100,8, replace = False) #pick 8 different seeds\n",
    "\n",
    "olf = np.zeros(8)\n",
    "NMAD = np.zeros(8)\n",
    "\n",
    "for i in range(8): #A bit rough, but it gives a sense of what happens by varying the random seeds!\n",
    "    print('Iteration', i) #this is just to see the progress.\n",
    "    ypred = cross_val_predict(bm, sel_features, sel_target.values.ravel(), cv = KFold(n_splits=5, shuffle=True, random_state=seeds[i]))\n",
    "    olf[i] = len(np.where(np.abs(sel_target.values.ravel()-ypred)>0.15*(1+sel_target.values.ravel()))[0])/len(sel_target.values.ravel())\n",
    "    NMAD[i] = 1.48*np.median(np.abs(sel_target.values.ravel()-ypred)/(1 + sel_target.values.ravel()))\n",
    "\n",
    "print('OLF avg/std:, {0:.5f}, {1:0.5f}'.format(olf.mean(), olf.std()))\n",
    "print('NMAD avg/std:, {0:.5f}, {1:0.5f}'.format(NMAD.mean(), NMAD.std()))"
   ]
  },
  {
   "cell_type": "markdown",
   "metadata": {
    "id": "9mh9sFbFnD3u"
   },
   "source": [
    "The result seems to be relatively solid, indicating that AdaBoost might be slightly .... RF when we take into account not just the R2 score, but the specific metrics we are monitoring for this problem."
   ]
  },
  {
   "cell_type": "markdown",
   "metadata": {
    "id": "bHFnPYvxnD3u"
   },
   "source": [
    "### The next step is to compare Adaptive Boosting with different Gradient Boosted Trees algorithms. \n",
    "\n",
    "We begin by using sklearn's GBM, then we move on to the lighter version, HistGBM, and finally we consider one of the most popular GBT-based algorithm, XGBoost.\n",
    "\n",
    "We also take a look at the possibility of using a Randomized Search instead of a Grid Search in order to speed up our optimization process."
   ]
  },
  {
   "cell_type": "code",
   "execution_count": null,
   "metadata": {
    "id": "GkoTHbBXnD3u"
   },
   "outputs": [],
   "source": [
    "from sklearn.ensemble import GradientBoostingRegressor"
   ]
  },
  {
   "cell_type": "markdown",
   "metadata": {
    "id": "KfapuYR7nD3u"
   },
   "source": [
    "The parameters depend on the particular implementation.\n",
    "\n",
    "In the sklearn formulation, the parameters of each tree are essentially the same we have for Random Forests; additionally we have the \"learning_rate\" parameter, which dictates how much each tree contribute to the final estimator, and the \"subsample\" parameters, which allows one to use a < 1.0 fraction of samples and introduce some regularization.\n"
   ]
  },
  {
   "cell_type": "markdown",
   "metadata": {
    "id": "EUhhsD7cnD3u"
   },
   "source": [
    "### We can run the optimization process for this algorithm on a similar grid to the one used for AdaBoost."
   ]
  },
  {
   "cell_type": "code",
   "execution_count": null,
   "metadata": {
    "id": "r7efbOR_nD3u",
    "outputId": "67f01f55-c635-4189-b60f-579a9c92d9c8"
   },
   "outputs": [],
   "source": [
    "# %%time\n",
    "# This took about 4.5 minutes on my machine\n",
    "\n",
    "parameters = {'max_depth':[6,10,None], 'loss':['squared_error','absolute_error'], \n",
    "              'n_estimators':[20,50,100], 'learning_rate': [0.1,0.3,0.5]}\n",
    "nmodels = np.product([len(el) for el in parameters.values()])\n",
    "model = GridSearchCV(GradientBoostingRegressor(), parameters, \n",
    "                     cv = KFold(n_splits=5, shuffle=True, random_state = 5), \\\n",
    "                     verbose = 2, n_jobs = 4, return_train_score=True)\n",
    "model.fit(sel_features,sel_target.values.ravel())\n",
    "\n",
    "print('Best params, best score:', \"{:.4f}\".format(model.best_score_), \\\n",
    "      model.best_params_)"
   ]
  },
  {
   "cell_type": "markdown",
   "metadata": {
    "id": "t_HrnTwpnD3u"
   },
   "source": [
    "These are comparable to what we obtained with AdaBoost (slightly lower, typically). We can check what happens to the outlier fraction and NMAD."
   ]
  },
  {
   "cell_type": "code",
   "execution_count": null,
   "metadata": {
    "id": "-6aDASOUnD3u"
   },
   "outputs": [],
   "source": [
    "bm = model.best_estimator_"
   ]
  },
  {
   "cell_type": "code",
   "execution_count": null,
   "metadata": {
    "id": "Gu51uKFDnD3u"
   },
   "outputs": [],
   "source": [
    "y_pred_bm = cross_val_predict(bm, sel_features, sel_target.values.ravel(), cv = KFold(n_splits=5, shuffle = True, random_state=10))"
   ]
  },
  {
   "cell_type": "code",
   "execution_count": null,
   "metadata": {
    "id": "kWPhtufDnD3v",
    "outputId": "16956666-4ae8-4295-8808-98f7d1099861"
   },
   "outputs": [],
   "source": [
    "print(np.round(len(np.where(np.abs(sel_target.values.ravel()-y_pred_bm)>0.15*(1+sel_target.values.ravel()))[0])/len(sel_target.values.ravel()),3))\n",
    "\n",
    "print(np.round(1.48*np.median(np.abs(sel_target.values.ravel()-y_pred_bm)/(1 + sel_target.values.ravel())),3))"
   ]
  },
  {
   "cell_type": "markdown",
   "metadata": {
    "id": "H93df3lSnD3v"
   },
   "source": [
    "Overall, the performance of the two algorithms is similar, but one important difference is *timing*. To explore exactly the same parameter space, GBR took ~ 3 times longer than AdaBoost. Additionally, gradient boosted methods typically require more estimators, and we should explore more regularization parameters (e.g. subsampling) as well. In a nutshell, it would be great to speed up things."
   ]
  },
  {
   "cell_type": "markdown",
   "metadata": {
    "id": "ESF8IVEenD3v"
   },
   "source": [
    "### How can we make things faster?"
   ]
  },
  {
   "cell_type": "markdown",
   "metadata": {
    "id": "W2RRi23EnD3v"
   },
   "source": [
    "We can improve on the time constraints in two ways: by switching to the histogram-based version of Gradient Boosting Regressor, and by using a Random Search instead of a Grid Search.\n",
    "\n",
    "HistGradientBoostingRegressor (inspired by [LightGBM](https://lightgbm.readthedocs.io/en/latest/)) works by binning the features into integer-valued bins (the default value is 256, but this parameter can be adjusted; note however that 256 is the maximum!), which greatly reduces the number of splitting points to consider, and results in a vast reduction of computation time, especially for large data sets."
   ]
  },
  {
   "cell_type": "code",
   "execution_count": null,
   "metadata": {
    "id": "Styi7ZycnD3v"
   },
   "outputs": [],
   "source": [
    "from sklearn.ensemble import HistGradientBoostingRegressor"
   ]
  },
  {
   "cell_type": "code",
   "execution_count": null,
   "metadata": {
    "id": "0LwMtWr3nD3w",
    "outputId": "0e2e6f6f-1cf9-41d1-a22b-d0457c9110cf"
   },
   "outputs": [],
   "source": [
    "# %%time\n",
    "# This took ~ 18s\n",
    "\n",
    "parameters = {'max_depth':[6,10,None], 'loss':['squared_error','absolute_error'], \n",
    "              'max_iter':[20,50,100], 'learning_rate': [0.1,0.3,0.5]}\n",
    "nmodels = np.product([len(el) for el in parameters.values()])\n",
    "model = GridSearchCV(HistGradientBoostingRegressor(), parameters, \n",
    "                     cv = KFold(n_splits=5, shuffle=True, random_state = 5), \\\n",
    "                     verbose = 2, n_jobs = 4, return_train_score=True)\n",
    "model.fit(sel_features,sel_target.values.ravel())\n",
    "\n",
    "print('Best params, best score:', \"{:.4f}\".format(model.best_score_), \\\n",
    "      model.best_params_)"
   ]
  },
  {
   "cell_type": "code",
   "execution_count": null,
   "metadata": {
    "id": "16fHVf9_nD3w",
    "outputId": "00d3ace3-bffe-4c09-c064-1deab9565527"
   },
   "outputs": [],
   "source": [
    "scores = pd.DataFrame(model.cv_results_)\n",
    "scoresCV = scores[['params','mean_test_score','std_test_score','mean_train_score']].sort_values(by = 'mean_test_score', \\\n",
    "                                                    ascending = False)\n",
    "scoresCV.head()"
   ]
  },
  {
   "cell_type": "markdown",
   "metadata": {
    "id": "DBJR5eWhnD3w"
   },
   "source": [
    "Even for this relatively small data set, this is much faster (about 15x faster than GradientBoostingRegressor), giving us a chance to explore a wider parameter space (e.g. more trees, more options for learning rate). The trade-off is that we obtain a slight decrease in performance, compared with GBR. However, the standard deviation of test scores over the 5 CV folds suggests that this difference is not statistically significant."
   ]
  },
  {
   "cell_type": "markdown",
   "metadata": {
    "id": "mdtL8YFZnD3w"
   },
   "source": [
    "Let's explore a wider parameter space here:"
   ]
  },
  {
   "cell_type": "code",
   "execution_count": null,
   "metadata": {
    "id": "wjVPA9zwnD3w",
    "outputId": "3c033cfe-93ad-4d9d-942f-b5043f15c71d"
   },
   "outputs": [],
   "source": [
    "#%%time\n",
    "# This took 2 min 42 secs\n",
    "\n",
    "parameters = {'max_depth':[6,10,None], 'loss':['squared_error','absolute_error'], \n",
    "              'max_iter':[100,200,500], 'learning_rate': [0.05, 0.1,0.3,0.5], \n",
    "              'early_stopping':[True, False]}\n",
    "nmodels = np.product([len(el) for el in parameters.values()])\n",
    "model = GridSearchCV(HistGradientBoostingRegressor(), parameters, cv = KFold(n_splits=5, shuffle=True), \\\n",
    "                     verbose = 2, n_jobs = 4, return_train_score=True)\n",
    "model.fit(sel_features,sel_target.values.ravel())\n",
    "\n",
    "print('Best params, best score:', \"{:.4f}\".format(model.best_score_), \\\n",
    "      model.best_params_)"
   ]
  },
  {
   "cell_type": "code",
   "execution_count": null,
   "metadata": {
    "id": "I6txk7rWnD3y",
    "outputId": "b4eb8ab7-c6d3-4969-ba7b-4264be834cf1"
   },
   "outputs": [],
   "source": [
    "scores = pd.DataFrame(model.cv_results_)\n",
    "scoresCV = scores[['params','mean_test_score','std_test_score','mean_train_score']].sort_values(by = 'mean_test_score', \\\n",
    "                                                    ascending = False)\n",
    "scoresCV.head()"
   ]
  },
  {
   "cell_type": "markdown",
   "metadata": {
    "id": "VX9jfilinD3y"
   },
   "source": [
    "HistGBR seems to improve (as expected) by using more trees and a smaller learning rate."
   ]
  },
  {
   "cell_type": "markdown",
   "metadata": {
    "id": "NAipuzcVnD3y"
   },
   "source": [
    "### Comparison with Random Search"
   ]
  },
  {
   "cell_type": "code",
   "execution_count": null,
   "metadata": {
    "id": "n8LG-l1ZnD3y"
   },
   "outputs": [],
   "source": [
    "from sklearn.model_selection import RandomizedSearchCV"
   ]
  },
  {
   "cell_type": "markdown",
   "metadata": {
    "id": "oceBY2WfnD3y"
   },
   "source": [
    "Finally, we can compare the performance and timings of the grid search above with the option of using a Randomized Search instead. We note that Random Search is usually preferable when we have a high-dimensional parameter space; its use is not particularly warranted here.\n",
    "\n",
    "The number of iterations (the number of models that are considered) also needs to be adjusted, and depends on the dimensionality of the parameter space as well as the functional dependence of the loss function on the parameters. We will compare the timings with the cell above, where we explore 144 models, and only use 30 for the random search."
   ]
  },
  {
   "cell_type": "markdown",
   "metadata": {
    "id": "VBmCjXGTnD3y"
   },
   "source": [
    "The references here explores various ways of running a parameter search.\n",
    "\n",
    "Bergstra, J. and Bengio, Y., Random search for hyper-parameter optimization, The Journal of Machine Learning Research (2012)\n",
    "\n",
    "Bergstra, James, et al. \"Algorithms for hyper-parameter optimization.\" Advances in neural information processing systems 24 (2011)."
   ]
  },
  {
   "cell_type": "code",
   "execution_count": null,
   "metadata": {
    "id": "NpFTKv-JnD3y",
    "outputId": "34e35ee3-045f-439f-f708-e4a3c5644640"
   },
   "outputs": [],
   "source": [
    "#%%time\n",
    "# 31 seconds\n",
    "\n",
    "parameters = {'max_depth':[6,10,None], 'loss':['squared_error','absolute_error'], \n",
    "              'max_iter':[100,200,500], 'learning_rate': [0.05, 0.1,0.3,0.5], \n",
    "             'early_stopping':[True, False]}\n",
    "nmodels = np.product([len(el) for el in parameters.values()])\n",
    "model = RandomizedSearchCV(HistGradientBoostingRegressor(), parameters, cv = KFold(n_splits=5, shuffle=True), \\\n",
    "                     verbose = 2, n_jobs = 4, return_train_score=True, n_iter=30)\n",
    "model.fit(sel_features,sel_target.values.ravel())\n",
    "\n",
    "print('Best params, best score:', \"{:.4f}\".format(model.best_score_), \\\n",
    "      model.best_params_)"
   ]
  },
  {
   "cell_type": "markdown",
   "metadata": {
    "id": "dQ1HoXQanD3y"
   },
   "source": [
    "The Randomized Search was able to find a comparably good solution in less than 1/5 of the time. As we mentioned, the true gains of a Randomized Search pertain to exploring high-dimensional spaces. It is also possible to use the Randomized Search to find the general area of optimal parameters, and then refine the search in that neighborhood with a finer Grid Search.\n",
    "\n",
    "Actually, probably a better idea (thanks Paco!) is to use [Optuna](https://optuna.org/), a general-purpose hyperparameter optimizer that would explore the hyperparameter in a smart way (learning on the fly about where the minima are)."
   ]
  },
  {
   "cell_type": "markdown",
   "metadata": {
    "id": "1M_3MB0CnD3y"
   },
   "source": [
    "### Finally, we can compare with XGBoost."
   ]
  },
  {
   "cell_type": "markdown",
   "metadata": {
    "id": "IYtnXEconD3y"
   },
   "source": [
    "[XGBoost](https://xgboost.readthedocs.io/en/latest/index.html#) stands for “Extreme Gradient Boosting”. It is sometimes known as \"regularized\" GBM, as it has a default regularization term on the weights of the ensemble, and is more robust to overfitting. It has more flexibility in defining weak learners, as well as the objective (loss) function (note that this doesn't apply to the base estimators, e.g. how splits in trees are chosen, but on the loss that is used to compute pseudoresiduals and gradients). \n"
   ]
  },
  {
   "cell_type": "code",
   "execution_count": null,
   "metadata": {
    "id": "WqgQCb0EnD3z"
   },
   "outputs": [],
   "source": [
    "import xgboost as xgb"
   ]
  },
  {
   "cell_type": "markdown",
   "metadata": {
    "id": "TI5v8EOGnD3z"
   },
   "source": [
    "Medium article explaining XGBoost: [here](https://towardsdatascience.com/a-beginners-guide-to-xgboost-87f5d4c30ed7); some nice tutorials from XGBoost's site: [here](https://xgboost.readthedocs.io/en/latest/tutorials/index.html)"
   ]
  },
  {
   "cell_type": "markdown",
   "metadata": {
    "id": "P52BMto0nD3z"
   },
   "source": [
    "We can begin by using Grid Search and the original parameter space, in order to compare timings with GBM and HistGBM."
   ]
  },
  {
   "cell_type": "code",
   "execution_count": null,
   "metadata": {
    "id": "kWe7diGMnD3z"
   },
   "outputs": [],
   "source": [
    "# %%time\n",
    "\n",
    "# This took ~ 3 minutes\n",
    "\n",
    "parameters = {'max_depth':[6,10,None], 'n_estimators':[50,100,200], \n",
    "              'learning_rate': [0.1, 0.3,0.5], 'objective':['reg:squarederror','reg:squaredlogerror']}\n",
    "\n",
    "\n",
    "nmodels = np.product([len(el) for el in parameters.values()])\n",
    "model = GridSearchCV(xgb.XGBRegressor(), parameters, cv = KFold(n_splits=5, shuffle=True), \\\n",
    "                     verbose = 2, n_jobs = 4, return_train_score=True)\n",
    "model.fit(sel_features,sel_target.values.ravel())\n",
    "\n",
    "print('Best params, best score:', \"{:.4f}\".format(model.best_score_), \\\n",
    "      model.best_params_)"
   ]
  },
  {
   "cell_type": "markdown",
   "metadata": {
    "id": "goZWl1ZSnD3z"
   },
   "source": [
    "XGBoost is slightly more efficient than GBM, and achieves comparable results on a similar grid. We can use the Random Search to explore some more intensive models (more trees, lower learning rate), and add subsampling as an extra form of regularization."
   ]
  },
  {
   "cell_type": "code",
   "execution_count": null,
   "metadata": {
    "id": "4PZ8LAOKnD3z",
    "outputId": "b507b40d-b6ad-4869-fe9c-9c2870c5028a"
   },
   "outputs": [],
   "source": [
    "#%%time\n",
    "\n",
    "# 3 min 36 secs\n",
    "\n",
    "parameters = {'max_depth':[6,10,None], 'n_estimators':[50, 100, 200,500], \n",
    "              'learning_rate': [0.02,0.05,0.1,0.3], 'objective':['reg:squarederror',\n",
    "                'reg:squaredlogerror'], 'subsample':[0.5,1]}\n",
    "\n",
    "nmodels = np.product([len(el) for el in parameters.values()])\n",
    "model = RandomizedSearchCV(xgb.XGBRegressor(), parameters, cv = KFold(n_splits=5, shuffle=True), \\\n",
    "                     verbose = 2, n_jobs = 4, return_train_score=True, n_iter = 30)\n",
    "model.fit(sel_features,sel_target.values.ravel())\n",
    "\n",
    "print('Best params, best score:', \"{:.4f}\".format(model.best_score_), \\\n",
    "      model.best_params_)"
   ]
  },
  {
   "cell_type": "code",
   "execution_count": null,
   "metadata": {
    "id": "-jQCtAXEnD30",
    "outputId": "73a81883-740c-4a0e-c218-1551931d2594"
   },
   "outputs": [],
   "source": [
    "scores = pd.DataFrame(model.cv_results_)\n",
    "scoresCV = scores[['params','mean_test_score','std_test_score','mean_train_score']].sort_values(by = 'mean_test_score', \\\n",
    "                                                    ascending = False)\n",
    "scoresCV.head()"
   ]
  },
  {
   "cell_type": "markdown",
   "metadata": {
    "id": "X_QCDhlBnD30"
   },
   "source": [
    "We are able to get slightly higher scores using this wider parameter space in combination with the Randomized Search, but again, the statistical significance of this increase is very low."
   ]
  },
  {
   "cell_type": "markdown",
   "metadata": {
    "id": "s1W_3b82nD30"
   },
   "source": [
    "We can also look for outlier fraction and NMAD:"
   ]
  },
  {
   "cell_type": "code",
   "execution_count": null,
   "metadata": {
    "id": "bTQ9nq2RnD30"
   },
   "outputs": [],
   "source": [
    "y_pred_bm = cross_val_predict(bm, sel_features, sel_target.values.ravel(), cv = KFold(n_splits=5, shuffle = True, random_state=5))"
   ]
  },
  {
   "cell_type": "code",
   "execution_count": null,
   "metadata": {
    "id": "IXUNuKYKnD30",
    "outputId": "008fabcf-84d3-477c-cb77-64c5391d285a"
   },
   "outputs": [],
   "source": [
    "print(len(np.where(np.abs(sel_target.values.ravel()-y_pred_bm)>0.15*(1+sel_target.values.ravel()))[0])/len(sel_target.values.ravel()))\n",
    "\n",
    "print(1.48*np.median(np.abs(sel_target.values.ravel()-y_pred_bm)/(1 + sel_target.values.ravel())))"
   ]
  },
  {
   "cell_type": "markdown",
   "metadata": {
    "id": "wBymPKgtnD30"
   },
   "source": [
    "### Conclusion: all boosting algorithms behave fairly similarly for this data set. It might be worth simply using the fastest one (HistGBR + Random Search)."
   ]
  }
 ],
 "metadata": {
  "colab": {
   "provenance": []
  },
  "kernelspec": {
   "display_name": "Python 3",
   "language": "python",
   "name": "python3"
  },
  "language_info": {
   "codemirror_mode": {
    "name": "ipython",
    "version": 3
   },
   "file_extension": ".py",
   "mimetype": "text/x-python",
   "name": "python",
   "nbconvert_exporter": "python",
   "pygments_lexer": "ipython3",
   "version": "3.7.3"
  }
 },
 "nbformat": 4,
 "nbformat_minor": 1
}
