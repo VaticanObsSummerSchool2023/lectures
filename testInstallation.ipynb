{
 "cells": [
  {
   "cell_type": "markdown",
   "metadata": {
    "slideshow": {
     "slide_type": "slide"
    }
   },
   "source": [
    "# Testing successsful scipy and astroML installation...\n",
    "\n",
    "[Zeljko Ivezic, University of Washington](http://faculty.washington.edu/ivezic/) \n",
    "\n",
    "[Link to this notebook](https://github.com/VaticanObsSummerSchool2023/lectures/blob/main/testInstallation.ipynb)"
   ]
  },
  {
   "cell_type": "markdown",
   "metadata": {
    "slideshow": {
     "slide_type": "slide"
    }
   },
   "source": [
    "## test numpy, matplotlib, scipy, etc. installation: \n",
    "### execute the two cells below and your output should show a plot of a Gaussian:"
   ]
  },
  {
   "cell_type": "code",
   "execution_count": 1,
   "metadata": {},
   "outputs": [],
   "source": [
    "import numpy as np\n",
    "from matplotlib import pyplot as plt\n",
    "from scipy.stats import norm"
   ]
  },
  {
   "cell_type": "code",
   "execution_count": 2,
   "metadata": {},
   "outputs": [
    {
     "data": {
      "image/png": "[encoded data removed]",
      "text/plain": [
       "<Figure size 360x270 with 1 Axes>"
      ]
     },
     "metadata": {
      "needs_background": "light"
     },
     "output_type": "display_data"
    }
   ],
   "source": [
    "## generate and plot gaussian distribution \n",
    "x = np.linspace(0, 200, 1000) # a grid of x values\n",
    "gauss = norm(100, 15).pdf(x)  # this is a function of x: gauss(x)\n",
    "# actual plotting\n",
    "fig, ax = plt.subplots(figsize=(5, 3.75))\n",
    "plt.plot(x, gauss, ls='-', c='black', label=r'$\\mu=%i,\\ \\sigma=%i$' % (100, 15))\n",
    "plt.xlim(0, 200)\n",
    "plt.ylim(0, 0.03)\n",
    "plt.xlabel('$x$')\n",
    "plt.ylabel(r'$p(x|\\mu,\\sigma)$')\n",
    "plt.title('Gaussian Distribution')\n",
    "plt.legend()\n",
    "plt.show()"
   ]
  },
  {
   "cell_type": "markdown",
   "metadata": {
    "slideshow": {
     "slide_type": "slide"
    }
   },
   "source": [
    "### assuming the above test was successful, let's now \n",
    "## test astroML installation: \n",
    "### see [astroML](https://www.astroml.org) and its [installation instructions](https://www.astroml.org/user_guide/installation.html)\n",
    "### after installing astroML, execute the two cells further below and your output should look like:\n",
    "\n",
    "![slide](figures/astroMLtest.png)"
   ]
  },
  {
   "cell_type": "code",
   "execution_count": 3,
   "metadata": {
    "slideshow": {
     "slide_type": "slide"
    }
   },
   "outputs": [
    {
     "name": "stdout",
     "output_type": "stream",
     "text": [
      "  % Total    % Received % Xferd  Average Speed   Time    Time     Time  Current\n",
      "                                 Dload  Upload   Total   Spent    Left  Speed\n",
      "100  3049  100  3049    0     0   7978      0 --:--:-- --:--:-- --:--:--  8044\n"
     ]
    }
   ],
   "source": [
    "# first cell to execute, it downloads file plot_SDSS_SSPP.py to local dir\n",
    "# If problems with cURL on your machine: see https://curl.se \n",
    "! curl -O https://raw.githubusercontent.com/astroML/astroML/master/examples/datasets/plot_SDSS_SSPP.py"
   ]
  },
  {
   "cell_type": "code",
   "execution_count": null,
   "metadata": {},
   "outputs": [],
   "source": [
    "# second cell to execute: run astroML code that you just downloaded\n",
    "%matplotlib inline\n",
    "%run ./plot_SDSS_SSPP.py\n",
    "# if you get errors, the first step is to test that your local path to \n",
    "# astroML is visible to your notebook... "
   ]
  },
  {
   "cell_type": "markdown",
   "metadata": {
    "slideshow": {
     "slide_type": "slide"
    }
   },
   "source": [
    "# BRAVO YOU! "
   ]
  }
 ],
 "metadata": {
  "anaconda-cloud": {},
  "celltoolbar": "Slideshow",
  "kernelspec": {
   "display_name": "Python 3 (ipykernel)",
   "language": "python",
   "name": "python3"
  },
  "language_info": {
   "codemirror_mode": {
    "name": "ipython",
    "version": 3
   },
   "file_extension": ".py",
   "mimetype": "text/x-python",
   "name": "python",
   "nbconvert_exporter": "python",
   "pygments_lexer": "ipython3",
   "version": "3.9.9"
  },
  "livereveal": {
   "scroll": true,
   "start_slideshow_at": "selected",
   "theme": "sky"
  }
 },
 "nbformat": 4,
 "nbformat_minor": 2
}
